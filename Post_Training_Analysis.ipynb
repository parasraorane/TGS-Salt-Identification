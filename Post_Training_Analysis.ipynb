{
 "cells": [
  {
   "cell_type": "markdown",
   "metadata": {},
   "source": [
    "# Final Functions\n",
    "(for predicting masks)"
   ]
  },
  {
   "cell_type": "markdown",
   "id": "d781080d",
   "metadata": {},
   "source": [
    "## Function 1"
   ]
  },
  {
   "cell_type": "markdown",
   "id": "2364ed4d",
   "metadata": {},
   "source": [
    "- Should include entire pipeline, from data preprocessing to making final predictions.\n",
    "- It should take in raw data as input.\n",
    "- It should return predictions for your input. Here the input can be a single point or a set of points.\n",
    "- def final_fun_1(X):\n",
    ".....\n",
    ".....\n",
    "..... # \n",
    "- you will use the best model that you found out with your experiments\n",
    "return predictions made on X ( Raw Data)"
   ]
  },
  {
   "cell_type": "markdown",
   "metadata": {},
   "source": [
    "#### Function takes input in form of a list with two elements. First is the image whose mask is to be predicted, the second is the depth at which it was the image was taken."
   ]
  },
  {
   "cell_type": "code",
   "execution_count": 1,
   "metadata": {},
   "outputs": [],
   "source": [
    "def final_fun_1(X):\n",
    "    import tensorflow as tf\n",
    "    import pandas as pd\n",
    "    import cv2\n",
    "    import numpy as np\n",
    "    import os\n",
    "    \n",
    "    model=tf.keras.models.load_model(\"model.h5\")\n",
    "    \n",
    "    def pred_image(arr,threshold=0.5):\n",
    "        res=np.zeros((arr.shape[0],arr.shape[1],arr.shape[2]))\n",
    "        for i,j in enumerate(arr):\n",
    "            final_image=j[:,:,0]\n",
    "            final_image=prob_to_image(final_image,threshold=threshold)\n",
    "            res[i]=final_image\n",
    "        return res\n",
    "    \n",
    "    def prob_to_image(arr,threshold=0.5):\n",
    "        for i in range(len(arr)):\n",
    "            for j in range(len(arr)):\n",
    "                if arr[i,j]>threshold:\n",
    "                    arr[i,j]=1\n",
    "                else:\n",
    "                    arr[i,j]=0\n",
    "        return arr\n",
    "    image = cv2.copyMakeBorder(X[0], 13, 14, 13, 14, cv2.BORDER_CONSTANT,value=[0,0,0])\n",
    "    image=np.stack([image,np.full((128,128),X[1])],axis=2)\n",
    "    image=model.predict(np.expand_dims(image,0),verbose=0)\n",
    "    image=image[:,13:114,13:114]\n",
    "\n",
    "    return pred_image(image,threshold=0.5)[0]"
   ]
  },
  {
   "cell_type": "code",
   "execution_count": 4,
   "metadata": {},
   "outputs": [
    {
     "data": {
      "image/png": "[encoded data removed]",
      "text/plain": [
       "<Figure size 432x288 with 1 Axes>"
      ]
     },
     "metadata": {
      "needs_background": "light"
     },
     "output_type": "display_data"
    }
   ],
   "source": [
    "#loading libraries necessary to read the image files.\n",
    "import cv2,pandas as pd,matplotlib.pyplot as plt,numpy as np\n",
    "\n",
    "#reading dataframe made in earlier notebook\n",
    "data=pd.read_csv(\"dataset.csv\")\n",
    "\n",
    "#selecting any random image\n",
    "random_data_point=np.random.randint(0,4000)\n",
    "\n",
    "#reading image\n",
    "image=cv2.imread(data[\"img_path\"][random_data_point],cv2.IMREAD_GRAYSCALE)\n",
    "\n",
    "#saving image depth\n",
    "depth=data[\"depth\"][random_data_point]\n",
    "\n",
    "#predicting mask\n",
    "mask=final_fun_1([image,depth])\n",
    "\n",
    "#showing the mask\n",
    "plt.title(\"Predicted Mask\")\n",
    "plt.imshow(mask)\n",
    "plt.show()"
   ]
  },
  {
   "cell_type": "markdown",
   "id": "fefb858e",
   "metadata": {},
   "source": [
    "## Function:2\n",
    "- Should include entire pipeline, from data preprocessing to making final predictions.\n",
    "- It should take in raw data as input along with its target values.\n",
    "- It should return the metric value that you are judging your models on.\n",
    "- def final_fun_2(X,Y):\n",
    "- .....\n",
    "- .....\n",
    "- #you will use the best model that you found out with your experiments\n",
    "- return final_metric computed on X ( Raw Data) and Y (target variable)"
   ]
  },
  {
   "cell_type": "markdown",
   "metadata": {},
   "source": [
    "#### Similar to Function 1, Raw Data is inputted in form of a list with two elements. First is the image whose mask is to be predicted, the second is the depth at which it was the image was taken.  The target variable should be the actual mask of the image."
   ]
  },
  {
   "cell_type": "code",
   "execution_count": 2,
   "metadata": {},
   "outputs": [],
   "source": [
    "def final_fun_2(X,Y):\n",
    "    import tensorflow as tf\n",
    "    import pandas as pd\n",
    "    import cv2\n",
    "    import numpy as np\n",
    "    import os\n",
    "    \n",
    "    model=tf.keras.models.load_model(\"model.h5\")\n",
    "    \n",
    "    def pred_image(arr,threshold=0.5):\n",
    "        res=np.zeros((arr.shape[0],arr.shape[1],arr.shape[2]))\n",
    "        for i,j in enumerate(arr):\n",
    "            final_image=j[:,:,0]\n",
    "            final_image=prob_to_image(final_image,threshold=threshold)\n",
    "            res[i]=final_image\n",
    "        return res\n",
    "    \n",
    "    def prob_to_image(arr,threshold=0.5):\n",
    "        for i in range(len(arr)):\n",
    "            for j in range(len(arr)):\n",
    "                if arr[i,j]>threshold:\n",
    "                    arr[i,j]=1\n",
    "                else:\n",
    "                    arr[i,j]=0\n",
    "        return arr\n",
    "    image = cv2.copyMakeBorder(X[0], 13, 14, 13, 14, cv2.BORDER_CONSTANT,value=[0,0,0])\n",
    "    image=np.stack([image,np.full((128,128),X[1])],axis=2)\n",
    "    image=model.predict(np.expand_dims(image,0),verbose=0)\n",
    "    image=image[:,13:114,13:114]\n",
    "    \n",
    "    #declaring metric\n",
    "    iou=tf.keras.metrics.BinaryIoU()\n",
    "    \n",
    "    iou_score=iou(mask,pred_image(image,threshold=0.5)[0])\n",
    "    \n",
    "    return np.array(iou_score)"
   ]
  },
  {
   "cell_type": "markdown",
   "metadata": {},
   "source": [
    "<center><h1>Visualizing Training Results</h1></center>"
   ]
  },
  {
   "cell_type": "code",
   "execution_count": 36,
   "metadata": {},
   "outputs": [
    {
     "name": "stderr",
     "output_type": "stream",
     "text": [
      "100%|████████████████████████████████████████████████████████████████████████████████| 400/400 [14:36<00:00,  2.19s/it]\n"
     ]
    }
   ],
   "source": [
    "from tqdm import tqdm\n",
    "validation=pd.read_csv(\"validation.csv\")\n",
    "ious=[]\n",
    "depths=[]\n",
    "salt_coverage=[]\n",
    "for i in tqdm(range(len(validation[\"img_path\"]))):\n",
    "    image=cv2.imread(data[\"img_path\"][i],cv2.IMREAD_GRAYSCALE)\n",
    "    depth=data[\"depth\"][i]\n",
    "    depths.append(depth)\n",
    "    mask=cv2.imread(data[\"mask_path\"][i],cv2.IMREAD_GRAYSCALE)\n",
    "    mask=mask//255\n",
    "    salt_coverage.append(np.mean(mask))\n",
    "    ious.append(final_fun_2([image,depth],mask))"
   ]
  },
  {
   "cell_type": "code",
   "execution_count": 46,
   "metadata": {
    "scrolled": true
   },
   "outputs": [
    {
     "data": {
      "image/png": "[encoded data removed]",
      "text/plain": [
       "<Figure size 432x288 with 1 Axes>"
      ]
     },
     "metadata": {
      "needs_background": "light"
     },
     "output_type": "display_data"
    }
   ],
   "source": [
    "plt.title(\"Depth vs IOU plot\")\n",
    "plt.scatter(depths,ious)\n",
    "plt.xlabel(\"Depth\")\n",
    "plt.ylabel(\"IOU\")\n",
    "plt.grid()\n",
    "plt.show()"
   ]
  },
  {
   "cell_type": "code",
   "execution_count": 47,
   "metadata": {},
   "outputs": [
    {
     "data": {
      "image/png": "[encoded data removed]",
      "text/plain": [
       "<Figure size 432x288 with 1 Axes>"
      ]
     },
     "metadata": {
      "needs_background": "light"
     },
     "output_type": "display_data"
    }
   ],
   "source": [
    "plt.title(\"Salt Coverage vs IOU plot\")\n",
    "plt.scatter(salt_coverage,ious)\n",
    "plt.ylabel(\"IOU\")\n",
    "plt.xlabel(\"salt_coverage\")\n",
    "plt.grid()\n",
    "plt.show()"
   ]
  },
  {
   "cell_type": "markdown",
   "metadata": {},
   "source": [
    "# Observation:\n",
    "- The density of datapoints with low salt_coverage is higher in lower IOU regions\n",
    "- No visible pattern in Depth vs Iou plot"
   ]
  },
  {
   "cell_type": "markdown",
   "metadata": {},
   "source": [
    "# Idea:1\n",
    "# Binary Mask Classifier\n",
    "Developing a model (Classifier) to detect images with no Mask and mark them as such before predicting using the main segmentation model"
   ]
  },
  {
   "cell_type": "code",
   "execution_count": null,
   "metadata": {},
   "outputs": [],
   "source": [
    "def UNet(input_img):\n",
    "\n",
    "    c1 = Conv2D(16, kernel_size = (3,3), kernel_initializer = 'he_normal', padding = 'same')(input_img)\n",
    "    c1 = BatchNormalization()(c1)\n",
    "    c1 = Activation('relu')(c1)\n",
    "    \n",
    "    c1 = Conv2D(16, kernel_size = (3,3), kernel_initializer = 'he_normal', padding = 'same')(c1)\n",
    "    c1 = BatchNormalization()(c1)\n",
    "    c1 = Activation('relu')(c1)\n",
    "    c1= channel_spatial_squeeze_excite(c1)\n",
    "    \n",
    "    p1 = MaxPooling2D((2, 2))(c1)\n",
    "    p1 = Dropout(0.1)(p1)\n",
    "#-----------------------------------------------------------------------------------------------------------------    \n",
    "    \n",
    "    c2 = Conv2D(32, kernel_size = (3,3), kernel_initializer = 'he_normal', padding = 'same')(p1)\n",
    "    c2 = BatchNormalization()(c2)\n",
    "    c2 = Activation('relu')(c2)\n",
    "    \n",
    "    c2 = Conv2D(32, kernel_size = (3,3), kernel_initializer = 'he_normal', padding = 'same')(c2)\n",
    "    c2 = BatchNormalization()(c2)\n",
    "    c2 = Activation('relu')(c2)\n",
    "    c2= channel_spatial_squeeze_excite(c2)\n",
    "    \n",
    "    p2 = MaxPooling2D((2, 2))(c2)\n",
    "    p2 = Dropout(0.1)(p2) \n",
    "#-----------------------------------------------------------------------------------------------------------------    \n",
    "    \n",
    "    c3 = Conv2D(64, kernel_size = (3,3), kernel_initializer = 'he_normal', padding = 'same')(p2)\n",
    "    c3 = BatchNormalization()(c3)\n",
    "    c3 = Activation('relu')(c3)\n",
    "    \n",
    "    c3 = Conv2D(64, kernel_size = (3,3), kernel_initializer = 'he_normal', padding = 'same')(c3)\n",
    "    c3 = BatchNormalization()(c3)\n",
    "    c3 = Activation('relu')(c3)\n",
    "    c3= channel_spatial_squeeze_excite(c3)\n",
    "    \n",
    "    p3 = MaxPooling2D((2, 2))(c3)\n",
    "    p3 = Dropout(0.1)(p3) \n",
    "    \n",
    "#-----------------------------------------------------------------------------------------------------------------    \n",
    "    \n",
    "    c4 = Conv2D(128, kernel_size = (3,3), kernel_initializer = 'he_normal', padding = 'same')(p3)\n",
    "    c4 = BatchNormalization()(c4)\n",
    "    c4 = Activation('relu')(c4)\n",
    "    \n",
    "    c4 = Conv2D(128, kernel_size = (3,3), kernel_initializer = 'he_normal', padding = 'same')(c4)\n",
    "    c4 = BatchNormalization()(c4)\n",
    "    c4 = Activation('relu')(c4)\n",
    "    c4= channel_spatial_squeeze_excite(c4)\n",
    "    \n",
    "    p4 = MaxPooling2D((2, 2))(c4)\n",
    "    p4 = Dropout(0.1)(p4) \n",
    "    \n",
    "#-----------------------------------------------------------------------------------------------------------------    \n",
    "    \n",
    "    c5 = Conv2D(256, kernel_size = (3,3), kernel_initializer = 'he_normal', padding = 'same')(p4)\n",
    "    c5 = BatchNormalization()(c5)\n",
    "    c5 = Activation('relu')(c5)\n",
    "    \n",
    "    c5 = Conv2D(256, kernel_size = (3,3), kernel_initializer = 'he_normal', padding = 'same')(c5)\n",
    "    c5 = BatchNormalization()(c5)\n",
    "    c5 = Activation('relu')(c5)\n",
    "    c5 = tf.keras.layers.Flatten()(c5)\n",
    "    outputs=Dense(1,activation=\"sigmoid\")(c5)\n",
    "\n",
    "    model = Model(input_img, outputs)\n",
    "    return model\n",
    "input_img = Input((128, 128, 2), name='img')\n",
    "model = UNet(input_img)"
   ]
  },
  {
   "cell_type": "markdown",
   "metadata": {},
   "source": [
    "<img src=https://i.imgur.com/gTFhh83.png>"
   ]
  },
  {
   "cell_type": "markdown",
   "metadata": {},
   "source": [
    "## Results\n",
    "Though the classifier did produce results with validation accuracy of 85%, the results worsened\n",
    "<img src=https://i.imgur.com/TmeAlbS.jpg>"
   ]
  },
  {
   "cell_type": "markdown",
   "metadata": {},
   "source": [
    "# Idea:2\n",
    "# Ensemble of Models"
   ]
  },
  {
   "cell_type": "markdown",
   "metadata": {},
   "source": [
    "- Tried to create an ensemble of models trained on stratified 5-fold data.\n",
    "- Each model trained for 200 epochs- 100 with binary cross entropy as the loss and 100 with jaccard distance"
   ]
  },
  {
   "cell_type": "code",
   "execution_count": 37,
   "metadata": {},
   "outputs": [
    {
     "name": "stderr",
     "output_type": "stream",
     "text": [
      "100%|████████████████████████████████████████████████████████████████████████████| 18000/18000 [03:39<00:00, 81.83it/s]\n"
     ]
    }
   ],
   "source": [
    "import os\n",
    "\n",
    "listt=os.listdir(\"test/images\")\n",
    "def clean_mask(arr):\n",
    "    temp=np.nonzero(arr)\n",
    "        \n",
    "    for i in range(temp[0].shape[0]):\n",
    "        arr[temp[0][i],temp[1][i]]=1\n",
    "    return arr\n",
    "\n",
    "def pred_image(arr,threshold=0.5):\n",
    "    res=np.zeros((arr.shape[0],arr.shape[1],arr.shape[2]))\n",
    "    for i,j in enumerate(arr):\n",
    "        final_image=j[:,:,0]\n",
    "        final_image=prob_to_image(final_image,threshold=threshold)\n",
    "        res[i]=final_image\n",
    "    return res\n",
    "def prob_to_image(arr,threshold=0.5):\n",
    "    for i in range(len(arr)):\n",
    "        for j in range(len(arr)):\n",
    "            if arr[i,j]>threshold:\n",
    "                arr[i,j]=1\n",
    "            else:\n",
    "                arr[i,j]=0\n",
    "    return arr\n",
    "from tqdm import tqdm\n",
    "def mask_to_rle(arr):\n",
    "    arr=clean_mask(arr)\n",
    "    pos_pixels=[]\n",
    "    count=1\n",
    "    for i in range(arr.shape[0]):\n",
    "        for j in range(arr.shape[1]):\n",
    "            if arr[j,i]==1:\n",
    "                pos_pixels.append(count)\n",
    "            count+=1\n",
    "    if len(pos_pixels)==0:\n",
    "        return \"\"\n",
    "    rle=\"\"\n",
    "    is_cons=[False]\n",
    "    for i in range(len(pos_pixels)-1):\n",
    "        if pos_pixels[i+1]-pos_pixels[i]==1:\n",
    "            is_cons.append(True)\n",
    "        else:\n",
    "            is_cons.append(False)\n",
    "    count=1\n",
    "    for i in range(len(pos_pixels)):\n",
    "        if is_cons[i]==False:\n",
    "            rle+=\" \"+str(count)+\" \"+str(pos_pixels[i])\n",
    "            count=1\n",
    "        elif is_cons[i]==True:\n",
    "            count+=1\n",
    "    rle+=\" \"+str(count)\n",
    "    return rle[3:]\n",
    "\n",
    "idd=[]\n",
    "rle=[]\n",
    "for i in tqdm(os.listdir(\"predictions/model0\")):\n",
    "    idd.append(i[:10])\n",
    "    \n",
    "    image=cv2.imread(\"predictions/model0/\"+i,cv2.IMREAD_GRAYSCALE)/255\n",
    "    image+=(cv2.imread(\"predictions/model1/\"+i,cv2.IMREAD_GRAYSCALE)/255)\n",
    "    image+=(cv2.imread(\"predictions/model2/\"+i,cv2.IMREAD_GRAYSCALE)/255)\n",
    "    image+=(cv2.imread(\"predictions/model3/\"+i,cv2.IMREAD_GRAYSCALE)/255)\n",
    "    image/=4\n",
    "\n",
    "    image=pred_image(np.expand_dims(np.expand_dims(image,0),-1),threshold=0.5)[0]\n",
    "    rle.append(mask_to_rle(image))\n",
    "m=pd.DataFrame()\n",
    "m[\"id\"]=idd\n",
    "m[\"rle_mask\"]=rle\n",
    "m.to_csv(\"ensemble.csv\",index=False)"
   ]
  },
  {
   "cell_type": "markdown",
   "metadata": {},
   "source": [
    "<img src=https://i.imgur.com/1NNInqy.jpg>"
   ]
  },
  {
   "cell_type": "markdown",
   "metadata": {},
   "source": [
    "## Observations:\n",
    "Ensemble Models performed poorly which may be attributed to the less training period. Training for the best model submitted earlier involved training for almost 100 epochs on Binary Cross Entropy and 350 epochs on Jaccard Distance. Training for 200 epochs itself results in training period of almost 40 minutes for each model in ensemble, which amounted to almost 3.5 hrs for the whole ensemble. Training for 250 epochs more on Jaccard Distance will result in training period of more than 3.5 hrs. Dont know whether a Colab instance can last that long"
   ]
  }
 ],
 "metadata": {
  "kernelspec": {
   "display_name": "Python 3 (ipykernel)",
   "language": "python",
   "name": "python3"
  },
  "language_info": {
   "codemirror_mode": {
    "name": "ipython",
    "version": 3
   },
   "file_extension": ".py",
   "mimetype": "text/x-python",
   "name": "python",
   "nbconvert_exporter": "python",
   "pygments_lexer": "ipython3",
   "version": "3.8.13"
  }
 },
 "nbformat": 4,
 "nbformat_minor": 2
}
